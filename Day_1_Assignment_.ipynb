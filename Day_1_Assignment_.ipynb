{
 "cells": [
  {
   "cell_type": "markdown",
   "metadata": {
    "id": "Y28BJkCOo05i"
   },
   "source": [
    "## Question - 1\n",
    "\n",
    "Given the following jumbled word, OBANWRI guess the correct English word. \n",
    "\n",
    "A. RANIBOW \n",
    "\n",
    "B. RAINBOW \n",
    "\n",
    "C. BOWRANI \n",
    "\n",
    "D. ROBWANI"
   ]
  },
  {
   "cell_type": "markdown",
   "metadata": {
    "id": "0MtdHExjo3xj"
   },
   "source": [
    "## Answer : B. RAINBOW"
   ]
  },
  {
   "cell_type": "code",
   "execution_count": null,
   "metadata": {
    "id": "Iuu9BcU6o7CH"
   },
   "outputs": [],
   "source": []
  },
  {
   "cell_type": "markdown",
   "metadata": {
    "id": "uTYqBRzssZwh"
   },
   "source": [
    "## Question - 2\n",
    "\n",
    "#### Write a program which prints “LETS UPGRADE”. (Please note that you have to print in ALL CAPS as given)"
   ]
  },
  {
   "cell_type": "code",
   "execution_count": 1,
   "metadata": {
    "colab": {
     "base_uri": "https://localhost:8080/"
    },
    "id": "ZbVJG91lsw2x",
    "outputId": "3ee89508-01f2-4cc3-f757-03d49d512c68"
   },
   "outputs": [
    {
     "name": "stdout",
     "output_type": "stream",
     "text": [
      "LETS UPGRADE\n"
     ]
    }
   ],
   "source": [
    "print(\"LETS UPGRADE\")"
   ]
  },
  {
   "cell_type": "code",
   "execution_count": 1,
   "metadata": {
    "id": "qoLOBNPp2SPg"
   },
   "outputs": [],
   "source": []
  },
  {
   "cell_type": "markdown",
   "metadata": {
    "id": "yeWLmhkT2atP"
   },
   "source": [
    "## Question - 3\n",
    "\n",
    "#### Write a program that takes cost price and selling price as input and displays whether the transaction is a Profit or a Loss or Neither"
   ]
  },
  {
   "cell_type": "code",
   "execution_count": 2,
   "metadata": {
    "colab": {
     "base_uri": "https://localhost:8080/"
    },
    "id": "Pxv-ym4y2fE3",
    "outputId": "9d5ea25a-02a8-4413-9649-7e15252aa259"
   },
   "outputs": [
    {
     "name": "stdout",
     "output_type": "stream",
     "text": [
      "20\n",
      "30\n",
      "Profit\n"
     ]
    }
   ],
   "source": [
    "# getting cost_price and selling_price from user\n",
    "cost_price = int(input())\n",
    "selling_price = int(input())\n",
    "\n",
    "# condition for checking profit or loss or neither using if-elif statement\n",
    "if cost_price<selling_price:\n",
    "    print(\"Profit\")\n",
    "\n",
    "elif cost_price>selling_price:\n",
    "    print(\"Loss\")\n",
    "    \n",
    "else:\n",
    "    print(\"Neither\")"
   ]
  },
  {
   "cell_type": "code",
   "execution_count": null,
   "metadata": {
    "id": "hJU-ijPw2mDu"
   },
   "outputs": [],
   "source": []
  },
  {
   "cell_type": "markdown",
   "metadata": {
    "id": "43adCdqj2q4T"
   },
   "source": [
    "## Question - 4\n",
    "\n",
    "#### Write a program that takes an amount in Euros as input. You need to find its equivalent in Rupees and display it. Assume 1 Euro equals Rs. 80"
   ]
  },
  {
   "cell_type": "code",
   "execution_count": 3,
   "metadata": {
    "colab": {
     "base_uri": "https://localhost:8080/"
    },
    "id": "SiRdsWue22JX",
    "outputId": "4b6e982f-cb20-4f0d-a0d5-a3d9a2541510"
   },
   "outputs": [
    {
     "name": "stdout",
     "output_type": "stream",
     "text": [
      "20\n",
      "1600\n"
     ]
    }
   ],
   "source": [
    "# getting value of euro from user\n",
    "euro = int(input())\n",
    "\n",
    "# converting the euro into rupees by assuming 1 euro = Rs.80\n",
    "rupees = euro * 80\n",
    "\n",
    "# printing the value after converting euro to rupees\n",
    "print(rupees)"
   ]
  },
  {
   "cell_type": "code",
   "execution_count": 3,
   "metadata": {
    "id": "FCCnjq_53A4x"
   },
   "outputs": [],
   "source": []
  },
  {
   "cell_type": "code",
   "execution_count": null,
   "metadata": {
    "id": "gf96WPdN3FcF"
   },
   "outputs": [],
   "source": []
  }
 ],
 "metadata": {
  "colab": {
   "name": "Day 1 Assignment .ipynb",
   "provenance": []
  },
  "kernelspec": {
   "display_name": "Python 3",
   "language": "python",
   "name": "python3"
  },
  "language_info": {
   "codemirror_mode": {
    "name": "ipython",
    "version": 3
   },
   "file_extension": ".py",
   "mimetype": "text/x-python",
   "name": "python",
   "nbconvert_exporter": "python",
   "pygments_lexer": "ipython3",
   "version": "3.8.3"
  }
 },
 "nbformat": 4,
 "nbformat_minor": 1
}
